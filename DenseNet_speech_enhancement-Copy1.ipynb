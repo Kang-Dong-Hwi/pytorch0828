{
 "cells": [
  {
   "cell_type": "code",
   "execution_count": 1,
   "metadata": {},
   "outputs": [
    {
     "name": "stdout",
     "output_type": "stream",
     "text": [
      "Current cuda device  4\n"
     ]
    }
   ],
   "source": [
    "import torch\n",
    "import os\n",
    "\n",
    "\n",
    "\n",
    "# GPU 할당 변경하기\n",
    "GPU_NUM = 4  # 원하는 GPU 번호 입력\n",
    "device = torch.device(f'cuda:{GPU_NUM}' if torch.cuda.is_available() else 'cpu')\n",
    "\n",
    "torch.cuda.set_device(device) # change allocation of current GPU\n",
    "print ('Current cuda device ', torch.cuda.current_device()) # check\n",
    "\n"
   ]
  },
  {
   "cell_type": "code",
   "execution_count": 2,
   "metadata": {},
   "outputs": [
    {
     "data": {
      "text/plain": [
       "''"
      ]
     },
     "execution_count": 2,
     "metadata": {},
     "output_type": "execute_result"
    }
   ],
   "source": [
    "import time\n",
    "import math\n",
    "import random\n",
    "import librosa\n",
    "import librosa.display\n",
    "import numpy as np\n",
    "import torch.nn as nn\n",
    "import torch.nn.functional as F\n",
    "import matplotlib.pyplot as plt\n",
    "\n",
    "\n",
    "from sklearn.metrics import confusion_matrix as cm\n",
    "from sklearn.preprocessing import StandardScaler\n",
    "from mlxtend.plotting import plot_confusion_matrix\n",
    "from torch.utils.data import Dataset, DataLoader, TensorDataset\n",
    "\n",
    "\n",
    "''''''\n",
    "BATCH_SIZE = 20\n",
    "EPOCHS = 100\n",
    "lr = 2*10e-5\n",
    "''''''\n",
    "\n",
    "\n"
   ]
  },
  {
   "cell_type": "code",
   "execution_count": 3,
   "metadata": {},
   "outputs": [],
   "source": [
    "\n",
    "def scaler( L, R ):\n",
    "    \n",
    "    LR = torch.cat( [L,R], dim=0 )\n",
    "    LR_cpu = LR.to('cpu')\n",
    "    LR_npy = np.asarray(LR_cpu)\n",
    "    \n",
    "    z = StandardScaler().fit_transform(LR_npy[:])\n",
    "    z = torch.as_tensor(z).to('cuda')\n",
    "    z = z.reshape(2, 257, 382)\n",
    "\n",
    "    return z[0], z[1]\n"
   ]
  },
  {
   "cell_type": "code",
   "execution_count": 4,
   "metadata": {},
   "outputs": [],
   "source": [
    "S = torch.load( 'S_unet.pt' )\n",
    "S_L = S[:,0,:,:]\n",
    "S_R = S[:,1,:,:]\n",
    "\n",
    "y_data = torch.load( 'y_data.pt')"
   ]
  },
  {
   "cell_type": "code",
   "execution_count": 5,
   "metadata": {},
   "outputs": [
    {
     "data": {
      "text/plain": [
       "torch.Size([500, 257, 382])"
      ]
     },
     "execution_count": 5,
     "metadata": {},
     "output_type": "execute_result"
    }
   ],
   "source": [
    "S_L.shape"
   ]
  },
  {
   "cell_type": "code",
   "execution_count": 6,
   "metadata": {},
   "outputs": [],
   "source": [
    "x_data_cuda4 = torch.empty([1,2,257,382]).to('cuda:4')\n",
    "for idx in range( 500 ):\n",
    "    \n",
    "    \n",
    "    mag_L = S_L[idx,:,:]\n",
    "    mag_R = S_R[idx,:,:]\n",
    "\n",
    "\n",
    "    \"\"\"정규화\"\"\"\n",
    "    #z_mag = scaler( mag_L, mag_R )\n",
    "    z_mag = scaler( mag_L, mag_R )\n",
    "    x_left_mag ,  x_right_mag   =  z_mag\n",
    "    \n",
    "    \n",
    "    xl_m = x_left_mag.reshape(1,257,382)\n",
    "    xr_m = x_right_mag.reshape(1,257,382)\n",
    "    \n",
    "    \n",
    "    x_element = torch.cat([ xl_m, xr_m ], dim=0).to('cuda:4')\n",
    "    x_element = x_element.reshape(1, 2, 257, 382)\n",
    "    #(1, 4, 257, 382)\n",
    " \n",
    "    x_data_cuda4 = torch.cat([x_data_cuda4, x_element], dim=0).to('cuda:4')\n",
    "\n",
    "x_data = x_data_cuda4[1:]"
   ]
  },
  {
   "cell_type": "code",
   "execution_count": 7,
   "metadata": {},
   "outputs": [
    {
     "data": {
      "text/plain": [
       "(torch.Size([500, 2, 257, 382]), torch.Size([500]))"
      ]
     },
     "execution_count": 7,
     "metadata": {},
     "output_type": "execute_result"
    }
   ],
   "source": [
    "x_data.shape, y_data.shape"
   ]
  },
  {
   "cell_type": "code",
   "execution_count": 8,
   "metadata": {},
   "outputs": [],
   "source": [
    "\n",
    "#train_size = 800\n",
    "#valid_size = 200\n",
    "\n",
    "\n",
    "full_dataset = TensorDataset( x_data.float(), y_data.long() )\n",
    "\n",
    "#train_data, valid_data = torch.utils.data.random_split( full_dataset, [train_size, valid_size] )\n",
    "#train_dataset = DataLoader( dataset=train_data, batch_size = BATCH_SIZE, shuffle=True, drop_last=True)\n",
    "valid_dataset = DataLoader( dataset=full_dataset, batch_size = BATCH_SIZE, shuffle=True, drop_last=True)\n"
   ]
  },
  {
   "cell_type": "markdown",
   "metadata": {},
   "source": [
    "#### DenseNet"
   ]
  },
  {
   "cell_type": "code",
   "execution_count": 9,
   "metadata": {},
   "outputs": [],
   "source": [
    "\n",
    "from collections import OrderedDict\n",
    "from torch import Tensor\n",
    "\n",
    "\n",
    "class _DenseLayer(nn.Module):\n",
    "    def __init__(self, num_input_features, growth_rate, bn_size, drop_rate, memory_efficient=False):\n",
    "        super(_DenseLayer, self).__init__()\n",
    "        \n",
    "        self.add_module('norm1', nn.BatchNorm2d(num_input_features)),\n",
    "        self.add_module('relu1', nn.ReLU(inplace=True)),\n",
    "        self.add_module('conv1', nn.Conv2d(num_input_features, bn_size * growth_rate,\n",
    "                                           kernel_size=1, stride=1,bias=False)),\n",
    "        \n",
    "        self.add_module('norm2', nn.BatchNorm2d(bn_size * growth_rate)),\n",
    "        self.add_module('relu2', nn.ReLU(inplace=True)),\n",
    "        self.add_module('conv2', nn.Conv2d(bn_size * growth_rate, growth_rate,\n",
    "                                           kernel_size=3, stride=1, padding=1,\n",
    "                                           bias=False)),\n",
    "        \n",
    "        self.drop_rate = float(drop_rate)\n",
    "        self.memory_efficient = memory_efficient\n",
    "\n",
    "    def bn_function(self, inputs):\n",
    "        # type: (List[Tensor]) -> Tensor\n",
    "        concated_features = torch.cat(inputs, 1)\n",
    "        bottleneck_output = self.conv1(self.relu1(self.norm1(concated_features)))  # noqa: T484\n",
    "        \n",
    "        return bottleneck_output\n",
    "\n",
    "\n",
    "    def forward(self, input):  # noqa: F811\n",
    "        if isinstance(input, Tensor):\n",
    "            prev_features = [input]\n",
    "        else:\n",
    "            prev_features = input\n",
    "\n",
    "\n",
    "        bottleneck_output = self.bn_function(prev_features)\n",
    "        new_features = self.conv2(self.relu2(self.norm2(bottleneck_output)))\n",
    "        \n",
    "        if self.drop_rate > 0:\n",
    "            new_features = F.dropout(new_features, p=self.drop_rate,\n",
    "                                     training=self.training)\n",
    "        \n",
    "        return new_features\n",
    "\n",
    "\n",
    "\n",
    "\n",
    "class _DenseBlock(nn.ModuleDict):\n",
    "    _version = 2\n",
    "\n",
    "    def __init__(self, num_layers, num_input_features, bn_size, growth_rate, drop_rate, memory_efficient=False):\n",
    "        super(_DenseBlock, self).__init__()\n",
    "        for i in range(num_layers):\n",
    "            layer = _DenseLayer(\n",
    "                num_input_features + i * growth_rate,\n",
    "                growth_rate=growth_rate,\n",
    "                bn_size=bn_size,\n",
    "                drop_rate=drop_rate,\n",
    "                memory_efficient=memory_efficient,\n",
    "            )\n",
    "            self.add_module('denselayer%d' % (i + 1), layer)\n",
    "\n",
    "    def forward(self, init_features):\n",
    "        features = [init_features]\n",
    "        for name, layer in self.items():\n",
    "            new_features = layer(features)\n",
    "            features.append(new_features)\n",
    "        return torch.cat(features, 1)\n",
    "\n",
    "\n",
    "\n",
    "\n",
    "\n",
    "class _Transition(nn.Sequential):\n",
    "    def __init__(self, num_input_features, num_output_features):\n",
    "        super(_Transition, self).__init__()\n",
    "        self.add_module('norm', nn.BatchNorm2d(num_input_features))\n",
    "        self.add_module('relu', nn.ReLU(inplace=True))\n",
    "        self.add_module('conv', nn.Conv2d(num_input_features,\n",
    "                                          num_output_features,\n",
    "                                          kernel_size=1, stride=1, bias=False))\n",
    "        self.add_module('pool', nn.AvgPool2d(kernel_size=2, stride=2))\n",
    "\n",
    "\n",
    "\n",
    "\n",
    "class DenseNet(nn.Module):\n",
    "    '''growth_rate, drop_rate'''\n",
    "    def __init__(self, growth_rate=20, block_config=(6, 12, 24, 16),\n",
    "                 num_init_features=128, bn_size=4, drop_rate=0.10,\n",
    "                 num_classes=11, memory_efficient=False):\n",
    "\n",
    "        super(DenseNet, self).__init__()\n",
    "\n",
    "        # First convolution\n",
    "        self.features = nn.Sequential(OrderedDict([\n",
    "            ('conv0', nn.Conv2d(2, num_init_features, kernel_size=7, stride=2, padding=3, bias=False)),\n",
    "            \n",
    "            ('norm0', nn.BatchNorm2d(num_init_features)),\n",
    "            ('relu0', nn.ReLU(inplace=True)),\n",
    "            ('pool0', nn.MaxPool2d(kernel_size=3, stride=2, padding=1)),\n",
    "        ]))\n",
    "\n",
    "\n",
    "        # Each denseblock\n",
    "        num_features = num_init_features\n",
    "        for i, num_layers in enumerate(block_config):\n",
    "            block = _DenseBlock(\n",
    "                num_layers=num_layers,\n",
    "                num_input_features=num_features,\n",
    "                bn_size=bn_size,\n",
    "                growth_rate=growth_rate,\n",
    "                drop_rate=drop_rate,\n",
    "                memory_efficient=memory_efficient\n",
    "            )\n",
    "            self.features.add_module('denseblock%d' % (i + 1), block)\n",
    "            num_features = num_features + num_layers * growth_rate\n",
    "\n",
    "            if i != len(block_config) - 1:\n",
    "                trans = _Transition(num_input_features=num_features,\n",
    "                                    num_output_features=num_features // 2)\n",
    "                self.features.add_module('transition%d' % (i + 1), trans)\n",
    "                num_features = num_features // 2\n",
    "\n",
    "        # Final batch norm\n",
    "        self.features.add_module('norm5', nn.BatchNorm2d(num_features))\n",
    "\n",
    "        # Linear layer\n",
    "        self.classifier = nn.Linear(num_features, num_classes)\n",
    "\n",
    "        # Official init from torch repo.\n",
    "        for m in self.modules():\n",
    "            if isinstance(m, nn.Conv2d):\n",
    "                nn.init.kaiming_normal_(m.weight)\n",
    "            elif isinstance(m, nn.BatchNorm2d):\n",
    "                nn.init.constant_(m.weight, 1)\n",
    "                nn.init.constant_(m.bias, 0)\n",
    "            elif isinstance(m, nn.Linear):\n",
    "                nn.init.constant_(m.bias, 0)\n",
    "\n",
    "\n",
    "\n",
    "    def forward(self, x):\n",
    "        features = self.features(x)\n",
    "        out = F.relu(features, inplace=True)\n",
    "        out = F.adaptive_avg_pool2d(out, (1, 1))\n",
    "        out = torch.flatten(out, 1)\n",
    "        out = self.classifier(out)\n",
    "        return out\n",
    "\n",
    "\n",
    "\n",
    "\n",
    "\n",
    "def _densenet(arch, growth_rate, block_config, num_init_features, pretrained, progress, **kwargs):\n",
    "    return DenseNet(growth_rate, block_config, num_init_features, **kwargs)\n",
    "\n",
    "\n",
    "\n",
    "def densenet_custom(pretrained=False, progress=True, **kwargs):\n",
    "    return _densenet('densenet_custom', 64, (5, 5, 4), 64, pretrained, progress, **kwargs)\n",
    "\n"
   ]
  },
  {
   "cell_type": "code",
   "execution_count": null,
   "metadata": {},
   "outputs": [],
   "source": []
  },
  {
   "cell_type": "code",
   "execution_count": 12,
   "metadata": {},
   "outputs": [
    {
     "name": "stdout",
     "output_type": "stream",
     "text": [
      "Test Accuracy:  3.0\n"
     ]
    }
   ],
   "source": [
    "from collections import OrderedDict\n",
    "\n",
    "checkpoint = torch.load('../../model/Unet_test2')\n",
    "state_dict =checkpoint['model_state_dict']\n",
    "\n",
    "new_state_dict = OrderedDict()\n",
    "for k, v in state_dict.items():\n",
    "    name = k[7:] # remove 'module.' of dataparallel\n",
    "    new_state_dict[name]=v\n",
    "\n",
    "\n",
    "    \n",
    "model = densenet_custom()\n",
    "model.load_state_dict(new_state_dict)\n",
    "#model.load_state_dict(checkpoint)\n",
    "model.to('cuda:4')\n",
    "model.eval()\n",
    "\n",
    "\n",
    "\n",
    "with torch.no_grad():\n",
    "    correct = 0\n",
    "    total = 0\n",
    "\n",
    "    #confusion matrix\n",
    "    torch_pred_valid  = torch.empty((1,), dtype=torch.int32).to(device)\n",
    "    torch_label_valid = torch.empty((1,), dtype=torch.int32).to(device)\n",
    "\n",
    "    for data, label in valid_dataset:\n",
    "    \n",
    "        output = model(data)\n",
    "        preds  = torch.max(output.data, 1)[1]\n",
    "        total += len(label)\n",
    "        correct += (preds==label.to(device)).sum().item()\n",
    "\n",
    "        #confusion matrix\n",
    "        torch_pred_valid  = torch.cat( [ torch_pred_valid , preds.to( device, dtype=torch.int32) ], dim=0 )\n",
    "        torch_label_valid = torch.cat( [ torch_label_valid, label.to( device, dtype=torch.int32) ], dim=0 )\n",
    "\n",
    "\n",
    "    valid_stacked = torch.stack( ( torch_label_valid[1:], torch_pred_valid[1:] ), dim=1 )\n",
    "\n",
    "      \n",
    "    print('Test Accuracy: ', 100.*correct/total)"
   ]
  },
  {
   "cell_type": "code",
   "execution_count": 13,
   "metadata": {},
   "outputs": [
    {
     "data": {
      "image/png": "[encoded data removed]",
      "text/plain": [
       "<Figure size 432x504 with 1 Axes>"
      ]
     },
     "metadata": {
      "needs_background": "light"
     },
     "output_type": "display_data"
    }
   ],
   "source": [
    "axis = ['0\\u00b0','20\\u00b0','40\\u00b0','60\\u00b0','80\\u00b0','100\\u00b0','120\\u00b0','140\\u00b0','160\\u00b0','180\\u00b0','X']\n",
    "cmt_valid = torch.zeros(11,11, dtype=torch.int32)\n",
    "\n",
    "for p in valid_stacked:\n",
    "    tl, pl = p.tolist()\n",
    "    cmt_valid[tl, pl] += 1\n",
    "\n",
    "\n",
    "plot_confusion_matrix(cmt_valid.numpy(), cmap='Blues')\n",
    "\n",
    "plt.title('validation_dataset_confusion_matrix')\n",
    "plt.xticks(np.arange(11), axis)\n",
    "plt.yticks(np.arange(11), axis)\n",
    "plt.gcf().set_size_inches(6,7,forward=True)\n",
    "\n",
    "\n",
    "plt.savefig( 'validation_dataset_confusion_matrix.png' )\n",
    "plt.show()"
   ]
  },
  {
   "cell_type": "code",
   "execution_count": null,
   "metadata": {},
   "outputs": [],
   "source": []
  }
 ],
 "metadata": {
  "kernelspec": {
   "display_name": "Python 3",
   "language": "python",
   "name": "python3"
  },
  "language_info": {
   "codemirror_mode": {
    "name": "ipython",
    "version": 3
   },
   "file_extension": ".py",
   "mimetype": "text/x-python",
   "name": "python",
   "nbconvert_exporter": "python",
   "pygments_lexer": "ipython3",
   "version": "3.7.7"
  }
 },
 "nbformat": 4,
 "nbformat_minor": 4
}
