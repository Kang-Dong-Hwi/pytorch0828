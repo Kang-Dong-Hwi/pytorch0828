{
 "cells": [
  {
   "cell_type": "code",
   "execution_count": 10,
   "metadata": {},
   "outputs": [],
   "source": [
    "# clean size < 200\n",
    "# noise size > 250\n",
    "path = '../../data/'\n",
    "\n",
    "\n",
    "import numpy as np\n",
    "import librosa\n"
   ]
  },
  {
   "cell_type": "code",
   "execution_count": 11,
   "metadata": {},
   "outputs": [],
   "source": [
    "def rad2com( radians ):\n",
    "    real = np.cos(radians)\n",
    "    imag = np.sin(radians)\n",
    "    \n",
    "    return real + 1j*imag"
   ]
  },
  {
   "cell_type": "code",
   "execution_count": 12,
   "metadata": {},
   "outputs": [],
   "source": [
    "# clean_mag, clean_phase -> stft\n",
    "clean = np.load('clean_idx.npy')\n",
    "\n",
    "clean_left = np.load(path+'clean_left.npy')\n",
    "clean_right = np.load(path+'clean_right.npy')\n",
    "clean_left_phase = np.load(path+'clean_left_phase.npy')\n",
    "clean_right_phase = np.load(path+'clean_right_phase.npy')\n"
   ]
  },
  {
   "cell_type": "code",
   "execution_count": 13,
   "metadata": {},
   "outputs": [],
   "source": [
    "\n",
    "clean_stft_left_list = []\n",
    "clean_stft_right_list = []\n",
    "\n",
    "for idx in list(clean):\n",
    "    stft_left  = clean_left[:,:,idx] * rad2com( clean_left_phase[:,:,idx] )\n",
    "    stft_right = clean_right[:,:,idx] * rad2com( clean_right_phase[:,:,idx] )\n",
    "    \n",
    "    clean_stft_left_list.append(stft_left.reshape(1,257,382))\n",
    "    clean_stft_right_list.append(stft_right.reshape(1,257,382))\n",
    "    "
   ]
  },
  {
   "cell_type": "code",
   "execution_count": 14,
   "metadata": {},
   "outputs": [],
   "source": [
    "\n",
    "clean_stft_left = np.vstack(clean_stft_left_list)\n",
    "clean_stft_right = np.vstack(clean_stft_right_list)\n",
    "\n",
    "np.save('clean_stft_left.npy', clean_stft_left)\n",
    "np.save('clean_stft_right.npy', clean_stft_right)\n"
   ]
  },
  {
   "cell_type": "code",
   "execution_count": null,
   "metadata": {},
   "outputs": [],
   "source": []
  }
 ],
 "metadata": {
  "kernelspec": {
   "display_name": "Python3 tf-v2.2",
   "language": "python",
   "name": "kdh_env"
  },
  "language_info": {
   "codemirror_mode": {
    "name": "ipython",
    "version": 3
   },
   "file_extension": ".py",
   "mimetype": "text/x-python",
   "name": "python",
   "nbconvert_exporter": "python",
   "pygments_lexer": "ipython3",
   "version": "3.7.7"
  }
 },
 "nbformat": 4,
 "nbformat_minor": 2
}
