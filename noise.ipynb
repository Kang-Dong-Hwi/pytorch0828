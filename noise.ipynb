{
 "cells": [
  {
   "cell_type": "code",
   "execution_count": 1,
   "metadata": {},
   "outputs": [],
   "source": [
    "# clean size < 200\n",
    "# noise size > 250\n",
    "path = '../../data/'\n",
    "\n",
    "\n",
    "import numpy as np\n",
    "import librosa\n"
   ]
  },
  {
   "cell_type": "code",
   "execution_count": 2,
   "metadata": {},
   "outputs": [],
   "source": [
    "def rad2com( radians ):\n",
    "    real = np.cos(radians)\n",
    "    imag = np.sin(radians)\n",
    "    \n",
    "    return real + 1j*imag"
   ]
  },
  {
   "cell_type": "code",
   "execution_count": 3,
   "metadata": {},
   "outputs": [],
   "source": [
    "# clean_mag, clean_phase -> stft\n",
    "noise = np.load('noise_idx.npy')\n",
    "\n",
    "S_left = np.load(path+'S_left.npy')\n",
    "S_right = np.load(path+'S_right.npy')\n",
    "S_left_phase = np.load(path+'S_left_phase.npy')\n",
    "S_right_phase = np.load(path+'S_right_phase.npy')\n"
   ]
  },
  {
   "cell_type": "code",
   "execution_count": 4,
   "metadata": {},
   "outputs": [],
   "source": [
    "\n",
    "noise_stft_left_list = []\n",
    "noise_stft_right_list = []\n",
    "\n",
    "for idx in list(noise):\n",
    "    stft_left  = S_left[:,:,idx]  * rad2com( S_left_phase[:,:,idx] )\n",
    "    stft_right = S_right[:,:,idx] * rad2com( S_right_phase[:,:,idx] )\n",
    "    \n",
    "    noise_stft_left_list.append(stft_left.reshape(1,257,382))\n",
    "    noise_stft_right_list.append(stft_right.reshape(1,257,382))\n",
    "    "
   ]
  },
  {
   "cell_type": "code",
   "execution_count": 5,
   "metadata": {},
   "outputs": [],
   "source": [
    "\n",
    "noise_stft_left  = np.vstack(noise_stft_left_list)\n",
    "noise_stft_right = np.vstack(noise_stft_right_list)\n",
    "\n",
    "np.save('noise_stft_left.npy',  noise_stft_left)\n",
    "np.save('noise_stft_right.npy', noise_stft_right)\n"
   ]
  },
  {
   "cell_type": "code",
   "execution_count": null,
   "metadata": {},
   "outputs": [],
   "source": []
  },
  {
   "cell_type": "code",
   "execution_count": null,
   "metadata": {},
   "outputs": [],
   "source": []
  },
  {
   "cell_type": "code",
   "execution_count": null,
   "metadata": {},
   "outputs": [],
   "source": []
  }
 ],
 "metadata": {
  "kernelspec": {
   "display_name": "Python3 tf-v2.2",
   "language": "python",
   "name": "kdh_env"
  },
  "language_info": {
   "codemirror_mode": {
    "name": "ipython",
    "version": 3
   },
   "file_extension": ".py",
   "mimetype": "text/x-python",
   "name": "python",
   "nbconvert_exporter": "python",
   "pygments_lexer": "ipython3",
   "version": "3.7.7"
  }
 },
 "nbformat": 4,
 "nbformat_minor": 2
}
