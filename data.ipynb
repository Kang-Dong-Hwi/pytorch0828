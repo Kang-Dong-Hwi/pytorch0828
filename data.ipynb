{
 "cells": [
  {
   "cell_type": "code",
   "execution_count": 1,
   "metadata": {},
   "outputs": [],
   "source": [
    "import matplotlib.pyplot as plt\n",
    "import numpy as np\n",
    "import librosa\n",
    "\n",
    "clean_path = '../clean/'\n",
    "noise_path = '../noise/'\n",
    "\n",
    "clean_left = np.load(clean_path+'clean_stft_left.npy')\n",
    "clean_right = np.load(clean_path+'clean_stft_right.npy')\n",
    "\n",
    "noise_left = np.load(noise_path+'noise_stft_left.npy')\n",
    "noise_right = np.load(noise_path+'noise_stft_right.npy')\n",
    "\n"
   ]
  },
  {
   "cell_type": "code",
   "execution_count": 2,
   "metadata": {},
   "outputs": [
    {
     "name": "stdout",
     "output_type": "stream",
     "text": [
      "(221, 257, 382)\n",
      "(26, 257, 382)\n"
     ]
    }
   ],
   "source": [
    "print (clean_left.shape)\n",
    "print (noise_left.shape)"
   ]
  },
  {
   "cell_type": "code",
   "execution_count": 3,
   "metadata": {},
   "outputs": [],
   "source": [
    "x_data = []\n",
    "y_data = []"
   ]
  },
  {
   "cell_type": "code",
   "execution_count": 5,
   "metadata": {},
   "outputs": [],
   "source": [
    "# x_data, y_data <-- ( N, 2, 257, 382 )\n",
    "#\n",
    "\n",
    "def xy_data2( cln_idx, noise_idx ):\n",
    "    \n",
    "    cln_L = clean_left[cln_idx,:,:]\n",
    "    cln_R = clean_right[cln_idx,:,:]\n",
    "    noise_L = noise_left[noise_idx,:,:]\n",
    "    noise_R = noise_right[noise_idx,:,:]\n",
    "    \n",
    "    stft_L = cln_L + noise_L\n",
    "    stft_R = cln_R + noise_R\n",
    "    \n",
    "    cln_log_L = librosa.amplitude_to_db( librosa.magphase(stft_L)[0] )\n",
    "    cln_log_R = librosa.amplitude_to_db( librosa.magphase(stft_R)[0] )\n",
    "    noise_log_L = librosa.amplitude_to_db( librosa.magphase(noise_L)[0] )\n",
    "    noise_log_R = librosa.amplitude_to_db( librosa.magphase(noise_R)[0] )\n",
    "    \n",
    "    \n",
    "    cln_log_L = cln_log_L.reshape(1,257,382)\n",
    "    cln_log_R = cln_log_R.reshape(1,257,382)\n",
    "    noise_log_L   = noise_log_L.reshape(1,257,382)\n",
    "    noise_log_R   = noise_log_R.reshape(1,257,382)\n",
    "    \n",
    "    x_element = np.concatenate([cln_log_L,   cln_log_R], 0)   # (2, 257, 382)\n",
    "    noise_mag = np.concatenate([noise_log_L, noise_log_R], 0) # (2, 257, 382)\n",
    "    \n",
    "    \n",
    "    return x_element, noise_mag\n",
    "    "
   ]
  },
  {
   "cell_type": "code",
   "execution_count": 6,
   "metadata": {},
   "outputs": [],
   "source": [
    "for idx in range( clean_left.shape[0] ):\n",
    "    \n",
    "    label_list = np.random.choice( len(noise_left), 10, replace=False)\n",
    "    \n",
    "    for label in list(label_list[:10]):\n",
    "        xy = xy_data2( idx, label )\n",
    "        x_data.append( xy[0].reshape(1,2,257,382) )\n",
    "        y_data.append( xy[1].reshape(1,2,257,382) )\n",
    "        \n",
    "        "
   ]
  },
  {
   "cell_type": "code",
   "execution_count": null,
   "metadata": {},
   "outputs": [],
   "source": [
    "def xy_data (clean, idx, noise, label):\n",
    "    clean_idx = clean[idx,:,:]\n",
    "    noise_lab = noise[label,:,:]\n",
    "    \n",
    "    x_stft = clean_idx + noise_lab\n",
    "    \n",
    "    x_element,_ = librosa.magphase(x_stft)\n",
    "    noise_mag,_ = librosa.magphase(noise_lab)\n",
    "\n",
    "    x_element = librosa.amplitude_to_db(x_element)\n",
    "    noise_mag = librosa.amplitude_to_db(noise_mag)\n",
    "    \n",
    "    x_element = x_element.reshape(1,257,382)\n",
    "    noise_mag = noise_mag.reshape(1,257,382)\n",
    "\n",
    "    return x_element, noise_mag "
   ]
  },
  {
   "cell_type": "code",
   "execution_count": null,
   "metadata": {},
   "outputs": [],
   "source": [
    "\n",
    "# for idx in range( clean_left.shape[0] ):\n",
    "    \n",
    "#     label_list = np.random.choice( len(noise_left), 10, replace=False)\n",
    "    \n",
    "#     for label in list(label_list[:10]):\n",
    "#         xy = xy_data( clean_left, idx, noise_left, label )\n",
    "#         x_data.append( xy[0] )\n",
    "#         y_data.append( xy[1] )\n",
    "        \n",
    "        \n",
    "#     for label in list(label_list[10:]):\n",
    "#         xy = xy_data( clean_right, idx, noise_right, label )\n",
    "#         x_data.append( xy[0] )\n",
    "#         y_data.append( xy[1] )\n",
    "        \n",
    "    "
   ]
  },
  {
   "cell_type": "code",
   "execution_count": 7,
   "metadata": {},
   "outputs": [
    {
     "name": "stdout",
     "output_type": "stream",
     "text": [
      "2210\n",
      "2210\n",
      "(2, 257, 382)\n",
      "(2, 257, 382)\n"
     ]
    }
   ],
   "source": [
    "\n",
    "print(len(x_data))\n",
    "print(len(y_data))\n",
    "\n",
    "x_data = np.vstack(x_data)\n",
    "y_data = np.vstack(y_data)\n",
    "\n",
    "print(x_data[0].shape)\n",
    "print(y_data[0].shape)\n"
   ]
  },
  {
   "cell_type": "code",
   "execution_count": null,
   "metadata": {},
   "outputs": [],
   "source": [
    "%matplotlib notebook\n",
    "\n",
    "index = 90\n",
    "db = librosa.amplitude_to_db( np.abs( clean_left[index,:,:382]) )\n",
    "noise  = (y_data[(2*index)*5+2,:,:382])\n",
    "noisy_a =(x_data[(2*index)*5+2,:,:382])\n",
    "\n",
    "x = [db, noisy_a, noise]\n",
    "title=['clean', 'clean+noise', 'noise']\n",
    "\n",
    "fig = plt.figure(figsize=(10,3))\n",
    "row, col = 1,3\n",
    "for i,mag in enumerate(x):\n",
    "    ax = fig.add_subplot(row, col, i+1)\n",
    "    im = ax.imshow(mag, origin='lower')\n",
    "    ax.set_title(title[i])\n",
    "    ax.set_xlabel('Time'), ax.set_ylabel('Freq')\n",
    "    ax.set_xticks([]),     ax.set_yticks([])\n",
    "    #fig.colorbar(im, shrink=0.4)\n",
    "\n",
    "plt.tight_layout()\n",
    "plt.show()"
   ]
  },
  {
   "cell_type": "code",
   "execution_count": 9,
   "metadata": {},
   "outputs": [],
   "source": [
    "np.save('x_data.npy', x_data)\n",
    "np.save('y_data.npy', y_data)"
   ]
  },
  {
   "cell_type": "code",
   "execution_count": null,
   "metadata": {},
   "outputs": [],
   "source": []
  }
 ],
 "metadata": {
  "kernelspec": {
   "display_name": "Python3 tf-v2.2",
   "language": "python",
   "name": "kdh_env"
  },
  "language_info": {
   "codemirror_mode": {
    "name": "ipython",
    "version": 3
   },
   "file_extension": ".py",
   "mimetype": "text/x-python",
   "name": "python",
   "nbconvert_exporter": "python",
   "pygments_lexer": "ipython3",
   "version": "3.7.7"
  }
 },
 "nbformat": 4,
 "nbformat_minor": 2
}
